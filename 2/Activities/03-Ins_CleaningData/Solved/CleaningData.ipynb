{
 "cells": [
  {
   "cell_type": "code",
   "execution_count": 54,
   "metadata": {},
   "outputs": [],
   "source": [
    "# Dependencies\n",
    "import pandas as pd\n",
    "import numpy as np"
   ]
  },
  {
   "cell_type": "code",
   "execution_count": 55,
   "metadata": {
    "inputHidden": false,
    "outputHidden": false
   },
   "outputs": [],
   "source": [
    "# Name of the CSV file\n",
    "file = 'Resources/donors2008.csv'"
   ]
  },
  {
   "cell_type": "code",
   "execution_count": 56,
   "metadata": {
    "inputHidden": false,
    "outputHidden": false
   },
   "outputs": [],
   "source": [
    "# The correct encoding must be used to read the CSV in pandas\n",
    "df = pd.read_csv(file, encoding=\"ISO-8859-1\")"
   ]
  },
  {
   "cell_type": "code",
   "execution_count": 57,
   "metadata": {
    "inputHidden": false,
    "outputHidden": false
   },
   "outputs": [
    {
     "data": {
      "text/html": [
       "<div>\n",
       "<style scoped>\n",
       "    .dataframe tbody tr th:only-of-type {\n",
       "        vertical-align: middle;\n",
       "    }\n",
       "\n",
       "    .dataframe tbody tr th {\n",
       "        vertical-align: top;\n",
       "    }\n",
       "\n",
       "    .dataframe thead th {\n",
       "        text-align: right;\n",
       "    }\n",
       "</style>\n",
       "<table border=\"1\" class=\"dataframe\">\n",
       "  <thead>\n",
       "    <tr style=\"text-align: right;\">\n",
       "      <th></th>\n",
       "      <th>LastName</th>\n",
       "      <th>FirstName</th>\n",
       "      <th>Employer</th>\n",
       "      <th>City</th>\n",
       "      <th>State</th>\n",
       "      <th>Zip</th>\n",
       "      <th>Amount</th>\n",
       "      <th>FIELD8</th>\n",
       "    </tr>\n",
       "  </thead>\n",
       "  <tbody>\n",
       "    <tr>\n",
       "      <th>0</th>\n",
       "      <td>Aaron</td>\n",
       "      <td>Eugene</td>\n",
       "      <td>State Department</td>\n",
       "      <td>Dulles</td>\n",
       "      <td>VA</td>\n",
       "      <td>20189</td>\n",
       "      <td>500.0</td>\n",
       "      <td>NaN</td>\n",
       "    </tr>\n",
       "    <tr>\n",
       "      <th>1</th>\n",
       "      <td>Abadi</td>\n",
       "      <td>Barbara</td>\n",
       "      <td>Abadi &amp; Co.</td>\n",
       "      <td>New York</td>\n",
       "      <td>NY</td>\n",
       "      <td>10021</td>\n",
       "      <td>200.0</td>\n",
       "      <td>NaN</td>\n",
       "    </tr>\n",
       "    <tr>\n",
       "      <th>2</th>\n",
       "      <td>Adamany</td>\n",
       "      <td>Anthony</td>\n",
       "      <td>Retired</td>\n",
       "      <td>Rockford</td>\n",
       "      <td>IL</td>\n",
       "      <td>61103</td>\n",
       "      <td>500.0</td>\n",
       "      <td>NaN</td>\n",
       "    </tr>\n",
       "    <tr>\n",
       "      <th>3</th>\n",
       "      <td>Adams</td>\n",
       "      <td>Lorraine</td>\n",
       "      <td>Self</td>\n",
       "      <td>New York</td>\n",
       "      <td>NY</td>\n",
       "      <td>10026</td>\n",
       "      <td>200.0</td>\n",
       "      <td>NaN</td>\n",
       "    </tr>\n",
       "    <tr>\n",
       "      <th>4</th>\n",
       "      <td>Adams</td>\n",
       "      <td>Marion</td>\n",
       "      <td>None</td>\n",
       "      <td>Exeter</td>\n",
       "      <td>NH</td>\n",
       "      <td>03833</td>\n",
       "      <td>100.0</td>\n",
       "      <td>NaN</td>\n",
       "    </tr>\n",
       "  </tbody>\n",
       "</table>\n",
       "</div>"
      ],
      "text/plain": [
       "  LastName FirstName          Employer      City State    Zip  Amount  FIELD8\n",
       "0    Aaron    Eugene  State Department    Dulles    VA  20189   500.0     NaN\n",
       "1    Abadi   Barbara       Abadi & Co.  New York    NY  10021   200.0     NaN\n",
       "2  Adamany   Anthony           Retired  Rockford    IL  61103   500.0     NaN\n",
       "3    Adams  Lorraine              Self  New York    NY  10026   200.0     NaN\n",
       "4    Adams    Marion              None    Exeter    NH  03833   100.0     NaN"
      ]
     },
     "execution_count": 57,
     "metadata": {},
     "output_type": "execute_result"
    }
   ],
   "source": [
    "# Preview of the DataFrame\n",
    "# Note that FIELD8 is likely a meaningless column\n",
    "df.head()"
   ]
  },
  {
   "cell_type": "code",
   "execution_count": 58,
   "metadata": {
    "inputHidden": false,
    "outputHidden": false
   },
   "outputs": [
    {
     "data": {
      "text/html": [
       "<div>\n",
       "<style scoped>\n",
       "    .dataframe tbody tr th:only-of-type {\n",
       "        vertical-align: middle;\n",
       "    }\n",
       "\n",
       "    .dataframe tbody tr th {\n",
       "        vertical-align: top;\n",
       "    }\n",
       "\n",
       "    .dataframe thead th {\n",
       "        text-align: right;\n",
       "    }\n",
       "</style>\n",
       "<table border=\"1\" class=\"dataframe\">\n",
       "  <thead>\n",
       "    <tr style=\"text-align: right;\">\n",
       "      <th></th>\n",
       "      <th>LastName</th>\n",
       "      <th>FirstName</th>\n",
       "      <th>Employer</th>\n",
       "      <th>City</th>\n",
       "      <th>State</th>\n",
       "      <th>Zip</th>\n",
       "      <th>Amount</th>\n",
       "    </tr>\n",
       "  </thead>\n",
       "  <tbody>\n",
       "    <tr>\n",
       "      <th>0</th>\n",
       "      <td>Aaron</td>\n",
       "      <td>Eugene</td>\n",
       "      <td>State Department</td>\n",
       "      <td>Dulles</td>\n",
       "      <td>VA</td>\n",
       "      <td>20189</td>\n",
       "      <td>500.0</td>\n",
       "    </tr>\n",
       "    <tr>\n",
       "      <th>1</th>\n",
       "      <td>Abadi</td>\n",
       "      <td>Barbara</td>\n",
       "      <td>Abadi &amp; Co.</td>\n",
       "      <td>New York</td>\n",
       "      <td>NY</td>\n",
       "      <td>10021</td>\n",
       "      <td>200.0</td>\n",
       "    </tr>\n",
       "    <tr>\n",
       "      <th>2</th>\n",
       "      <td>Adamany</td>\n",
       "      <td>Anthony</td>\n",
       "      <td>Retired</td>\n",
       "      <td>Rockford</td>\n",
       "      <td>IL</td>\n",
       "      <td>61103</td>\n",
       "      <td>500.0</td>\n",
       "    </tr>\n",
       "    <tr>\n",
       "      <th>3</th>\n",
       "      <td>Adams</td>\n",
       "      <td>Lorraine</td>\n",
       "      <td>Self</td>\n",
       "      <td>New York</td>\n",
       "      <td>NY</td>\n",
       "      <td>10026</td>\n",
       "      <td>200.0</td>\n",
       "    </tr>\n",
       "    <tr>\n",
       "      <th>4</th>\n",
       "      <td>Adams</td>\n",
       "      <td>Marion</td>\n",
       "      <td>None</td>\n",
       "      <td>Exeter</td>\n",
       "      <td>NH</td>\n",
       "      <td>03833</td>\n",
       "      <td>100.0</td>\n",
       "    </tr>\n",
       "  </tbody>\n",
       "</table>\n",
       "</div>"
      ],
      "text/plain": [
       "  LastName FirstName          Employer      City State    Zip  Amount\n",
       "0    Aaron    Eugene  State Department    Dulles    VA  20189   500.0\n",
       "1    Abadi   Barbara       Abadi & Co.  New York    NY  10021   200.0\n",
       "2  Adamany   Anthony           Retired  Rockford    IL  61103   500.0\n",
       "3    Adams  Lorraine              Self  New York    NY  10026   200.0\n",
       "4    Adams    Marion              None    Exeter    NH  03833   100.0"
      ]
     },
     "execution_count": 58,
     "metadata": {},
     "output_type": "execute_result"
    }
   ],
   "source": [
    "# Delete extraneous column\n",
    "del df['FIELD8']\n",
    "df.head()"
   ]
  },
  {
   "cell_type": "code",
   "execution_count": 59,
   "metadata": {
    "inputHidden": false,
    "outputHidden": false
   },
   "outputs": [
    {
     "data": {
      "text/plain": [
       "LastName     1776\n",
       "FirstName    1776\n",
       "Employer     1743\n",
       "City         1776\n",
       "State        1776\n",
       "Zip          1776\n",
       "Amount       1776\n",
       "dtype: int64"
      ]
     },
     "execution_count": 59,
     "metadata": {},
     "output_type": "execute_result"
    }
   ],
   "source": [
    "# Identify incomplete rows\n",
    "df.count()"
   ]
  },
  {
   "cell_type": "markdown",
   "metadata": {},
   "source": [
    "### MK: Approach 1: Investigate Missing Rows and Fill NA\n",
    "* This is how to setup the values to be complete, instead of dropping the Rows"
   ]
  },
  {
   "cell_type": "code",
   "execution_count": 60,
   "metadata": {},
   "outputs": [
    {
     "data": {
      "text/html": [
       "<div>\n",
       "<style scoped>\n",
       "    .dataframe tbody tr th:only-of-type {\n",
       "        vertical-align: middle;\n",
       "    }\n",
       "\n",
       "    .dataframe tbody tr th {\n",
       "        vertical-align: top;\n",
       "    }\n",
       "\n",
       "    .dataframe thead th {\n",
       "        text-align: right;\n",
       "    }\n",
       "</style>\n",
       "<table border=\"1\" class=\"dataframe\">\n",
       "  <thead>\n",
       "    <tr style=\"text-align: right;\">\n",
       "      <th></th>\n",
       "      <th>LastName</th>\n",
       "      <th>FirstName</th>\n",
       "      <th>Employer</th>\n",
       "      <th>City</th>\n",
       "      <th>State</th>\n",
       "      <th>Zip</th>\n",
       "      <th>Amount</th>\n",
       "    </tr>\n",
       "  </thead>\n",
       "  <tbody>\n",
       "    <tr>\n",
       "      <th>13</th>\n",
       "      <td>Ahuja</td>\n",
       "      <td>Maria T.</td>\n",
       "      <td>NaN</td>\n",
       "      <td>New York</td>\n",
       "      <td>NY</td>\n",
       "      <td>10021</td>\n",
       "      <td>1000.0</td>\n",
       "    </tr>\n",
       "    <tr>\n",
       "      <th>126</th>\n",
       "      <td>Berger</td>\n",
       "      <td>Harriet</td>\n",
       "      <td>NaN</td>\n",
       "      <td>Philadelphia</td>\n",
       "      <td>PA</td>\n",
       "      <td>19129</td>\n",
       "      <td>5000.0</td>\n",
       "    </tr>\n",
       "    <tr>\n",
       "      <th>149</th>\n",
       "      <td>Block</td>\n",
       "      <td>Milton</td>\n",
       "      <td>NaN</td>\n",
       "      <td>Naples</td>\n",
       "      <td>NY</td>\n",
       "      <td>14512</td>\n",
       "      <td>200.0</td>\n",
       "    </tr>\n",
       "    <tr>\n",
       "      <th>400</th>\n",
       "      <td>Donelan</td>\n",
       "      <td>Myrna</td>\n",
       "      <td>NaN</td>\n",
       "      <td>Durham</td>\n",
       "      <td>NC</td>\n",
       "      <td>27707-5711</td>\n",
       "      <td>250.0</td>\n",
       "    </tr>\n",
       "    <tr>\n",
       "      <th>460</th>\n",
       "      <td>Faber</td>\n",
       "      <td>Suzanne</td>\n",
       "      <td>NaN</td>\n",
       "      <td>Chicago</td>\n",
       "      <td>IL</td>\n",
       "      <td>60611</td>\n",
       "      <td>5000.0</td>\n",
       "    </tr>\n",
       "    <tr>\n",
       "      <th>491</th>\n",
       "      <td>Fizdale</td>\n",
       "      <td>Richard</td>\n",
       "      <td>NaN</td>\n",
       "      <td>Chicago</td>\n",
       "      <td>IL</td>\n",
       "      <td>60611</td>\n",
       "      <td>5000.0</td>\n",
       "    </tr>\n",
       "    <tr>\n",
       "      <th>519</th>\n",
       "      <td>Fritsch</td>\n",
       "      <td>Claudia</td>\n",
       "      <td>NaN</td>\n",
       "      <td>Atlanta</td>\n",
       "      <td>GA</td>\n",
       "      <td>30319</td>\n",
       "      <td>250.0</td>\n",
       "    </tr>\n",
       "    <tr>\n",
       "      <th>543</th>\n",
       "      <td>Gaylord</td>\n",
       "      <td>Marilyn</td>\n",
       "      <td>NaN</td>\n",
       "      <td>Lacey</td>\n",
       "      <td>WA</td>\n",
       "      <td>98503-2547</td>\n",
       "      <td>50.0</td>\n",
       "    </tr>\n",
       "    <tr>\n",
       "      <th>566</th>\n",
       "      <td>Gilbert</td>\n",
       "      <td>Barbara</td>\n",
       "      <td>NaN</td>\n",
       "      <td>Nicholasville</td>\n",
       "      <td>KY</td>\n",
       "      <td>40356</td>\n",
       "      <td>100.0</td>\n",
       "    </tr>\n",
       "    <tr>\n",
       "      <th>608</th>\n",
       "      <td>Graves</td>\n",
       "      <td>Scott</td>\n",
       "      <td>NaN</td>\n",
       "      <td>Arlington</td>\n",
       "      <td>VA</td>\n",
       "      <td>22201</td>\n",
       "      <td>50.0</td>\n",
       "    </tr>\n",
       "  </tbody>\n",
       "</table>\n",
       "</div>"
      ],
      "text/plain": [
       "    LastName FirstName Employer           City State         Zip  Amount\n",
       "13     Ahuja  Maria T.      NaN       New York    NY       10021  1000.0\n",
       "126   Berger   Harriet      NaN   Philadelphia    PA       19129  5000.0\n",
       "149    Block    Milton      NaN         Naples    NY       14512   200.0\n",
       "400  Donelan     Myrna      NaN         Durham    NC  27707-5711   250.0\n",
       "460    Faber   Suzanne      NaN        Chicago    IL       60611  5000.0\n",
       "491  Fizdale   Richard      NaN        Chicago    IL       60611  5000.0\n",
       "519  Fritsch   Claudia      NaN        Atlanta    GA       30319   250.0\n",
       "543  Gaylord   Marilyn      NaN          Lacey    WA  98503-2547    50.0\n",
       "566  Gilbert   Barbara      NaN  Nicholasville    KY       40356   100.0\n",
       "608   Graves     Scott      NaN      Arlington    VA       22201    50.0"
      ]
     },
     "execution_count": 60,
     "metadata": {},
     "output_type": "execute_result"
    }
   ],
   "source": [
    "df[df[\"Employer\"].isna()].head(10)"
   ]
  },
  {
   "cell_type": "code",
   "execution_count": 61,
   "metadata": {},
   "outputs": [],
   "source": [
    "# MK: Instead of dropping data, let's fill na's instead\n",
    "df['Employer'] = df['Employer'].fillna(value='None')"
   ]
  },
  {
   "cell_type": "code",
   "execution_count": 62,
   "metadata": {},
   "outputs": [
    {
     "data": {
      "text/plain": [
       "LastName     1776\n",
       "FirstName    1776\n",
       "Employer     1776\n",
       "City         1776\n",
       "State        1776\n",
       "Zip          1776\n",
       "Amount       1776\n",
       "dtype: int64"
      ]
     },
     "execution_count": 62,
     "metadata": {},
     "output_type": "execute_result"
    }
   ],
   "source": [
    "# Check new counts\n",
    "df.count()"
   ]
  },
  {
   "cell_type": "markdown",
   "metadata": {},
   "source": [
    "### MK: Approach 2: Drop Rows from DF if missing ANY value\n",
    "* If I commented out the code above and simply cleaned out the records, they would disappear from the dataset"
   ]
  },
  {
   "cell_type": "code",
   "execution_count": 7,
   "metadata": {
    "inputHidden": false,
    "outputHidden": false
   },
   "outputs": [],
   "source": [
    "# Drop all rows with missing information\n",
    "df = df.dropna(how='any')"
   ]
  },
  {
   "cell_type": "code",
   "execution_count": 8,
   "metadata": {
    "inputHidden": false,
    "outputHidden": false
   },
   "outputs": [
    {
     "data": {
      "text/plain": [
       "LastName     1743\n",
       "FirstName    1743\n",
       "Employer     1743\n",
       "City         1743\n",
       "State        1743\n",
       "Zip          1743\n",
       "Amount       1743\n",
       "dtype: int64"
      ]
     },
     "execution_count": 8,
     "metadata": {},
     "output_type": "execute_result"
    }
   ],
   "source": [
    "# Verify dropped rows\n",
    "df.count()"
   ]
  },
  {
   "cell_type": "code",
   "execution_count": 63,
   "metadata": {
    "inputHidden": false,
    "outputHidden": false
   },
   "outputs": [
    {
     "data": {
      "text/plain": [
       "LastName      object\n",
       "FirstName     object\n",
       "Employer      object\n",
       "City          object\n",
       "State         object\n",
       "Zip           object\n",
       "Amount       float64\n",
       "dtype: object"
      ]
     },
     "execution_count": 63,
     "metadata": {},
     "output_type": "execute_result"
    }
   ],
   "source": [
    "# The Amount column is the wrong data type. It should be numeric.\n",
    "df.dtypes"
   ]
  },
  {
   "cell_type": "code",
   "execution_count": 64,
   "metadata": {
    "inputHidden": false,
    "outputHidden": false
   },
   "outputs": [],
   "source": [
    "# Use pd.to_numeric() method to convert the datatype of the Amount column\n",
    "df['Amount'] = pd.to_numeric(df['Amount'])"
   ]
  },
  {
   "cell_type": "code",
   "execution_count": 65,
   "metadata": {
    "inputHidden": false,
    "outputHidden": false
   },
   "outputs": [
    {
     "data": {
      "text/plain": [
       "dtype('float64')"
      ]
     },
     "execution_count": 65,
     "metadata": {},
     "output_type": "execute_result"
    }
   ],
   "source": [
    "# Verify that the Amount column datatype has been made numeric\n",
    "df['Amount'].dtype"
   ]
  },
  {
   "cell_type": "code",
   "execution_count": 72,
   "metadata": {
    "inputHidden": false,
    "outputHidden": false
   },
   "outputs": [
    {
     "data": {
      "text/plain": [
       "None                                   282\n",
       "Self                                   241\n",
       "Retired                                126\n",
       "Self Employed                           39\n",
       "Self-Employed                           34\n",
       "Google                                   6\n",
       "Unemployed                               4\n",
       "Not Employed                             4\n",
       "Bank Of America                          3\n",
       "University of California                 3\n",
       "Social Security Administration           3\n",
       "Mayer Brown                              2\n",
       "Northern Trust                           2\n",
       "Rainey Cluss LLC                         2\n",
       "Ariel Investments                        2\n",
       "Microsoft                                2\n",
       "Mayer Brown LLP                          2\n",
       "University of Michigan                   2\n",
       "Berger & Montague                        2\n",
       "Henry Crown & Company                    2\n",
       "Davis Polk & Wardwell                    2\n",
       "University of Washington                 2\n",
       "State Department                         2\n",
       "United Health Group                      2\n",
       "CSC                                      2\n",
       "Federal Government                       2\n",
       "Skadden, Arps                            2\n",
       "Jones Day                                2\n",
       "Harvard University                       2\n",
       "Covington & Burling                      2\n",
       "Sidley Austin LLP                        2\n",
       "Newton Public Schools                    2\n",
       "UCLA                                     2\n",
       "Kaiser Permanente                        2\n",
       "Freelance                                2\n",
       "LMI                                      2\n",
       "ExxonMobil                               2\n",
       "University Of Michigan                   2\n",
       "Google, Inc.                             2\n",
       "Quadrangle Group                         2\n",
       "Hugo Neu Corporation                     2\n",
       "University Hospital                      2\n",
       "Mooney, Green, Baker & Saindon, PC.      1\n",
       "Tel/Logic, Inc. dba E-Rate Central       1\n",
       "George Washington University             1\n",
       "U.S. State Department                    1\n",
       "Granite Ventures, LLC                    1\n",
       "Lion Oaks Ranch                          1\n",
       "SEIU Local 32BJ                          1\n",
       "Shearman&Sterling                        1\n",
       "Name: Employer, dtype: int64"
      ]
     },
     "execution_count": 72,
     "metadata": {},
     "output_type": "execute_result"
    }
   ],
   "source": [
    "# Display an overview of the Employers column\n",
    "employer_counts = df['Employer'].value_counts()\n",
    "employer_counts[:50]"
   ]
  },
  {
   "cell_type": "code",
   "execution_count": 74,
   "metadata": {},
   "outputs": [
    {
     "data": {
      "text/plain": [
       "Ariel Investments                        2\n",
       "Bank Of America                          3\n",
       "Berger & Montague                        2\n",
       "CSC                                      2\n",
       "Covington & Burling                      2\n",
       "Davis Polk & Wardwell                    2\n",
       "ExxonMobil                               2\n",
       "Federal Government                       2\n",
       "Freelance                                2\n",
       "George Washington University             1\n",
       "Google                                   6\n",
       "Google, Inc.                             2\n",
       "Granite Ventures, LLC                    1\n",
       "Harvard University                       2\n",
       "Henry Crown & Company                    2\n",
       "Hugo Neu Corporation                     2\n",
       "Jones Day                                2\n",
       "Kaiser Permanente                        2\n",
       "LMI                                      2\n",
       "Lion Oaks Ranch                          1\n",
       "Mayer Brown                              2\n",
       "Mayer Brown LLP                          2\n",
       "Microsoft                                2\n",
       "Mooney, Green, Baker & Saindon, PC.      1\n",
       "Newton Public Schools                    2\n",
       "None                                   282\n",
       "Northern Trust                           2\n",
       "Not Employed                             4\n",
       "Quadrangle Group                         2\n",
       "Rainey Cluss LLC                         2\n",
       "Retired                                126\n",
       "SEIU Local 32BJ                          1\n",
       "Self                                   241\n",
       "Self Employed                           39\n",
       "Self-Employed                           34\n",
       "Shearman&Sterling                        1\n",
       "Sidley Austin LLP                        2\n",
       "Skadden, Arps                            2\n",
       "Social Security Administration           3\n",
       "State Department                         2\n",
       "Tel/Logic, Inc. dba E-Rate Central       1\n",
       "U.S. State Department                    1\n",
       "UCLA                                     2\n",
       "Unemployed                               4\n",
       "United Health Group                      2\n",
       "University Hospital                      2\n",
       "University Of Michigan                   2\n",
       "University of California                 3\n",
       "University of Michigan                   2\n",
       "University of Washington                 2\n",
       "Name: Employer, dtype: int64"
      ]
     },
     "execution_count": 74,
     "metadata": {},
     "output_type": "execute_result"
    }
   ],
   "source": [
    "# MK Additional Sort the first 100 by Count and then resort by Index for easier Spelling Checks\n",
    "employer_counts[:50].sort_index()"
   ]
  },
  {
   "cell_type": "code",
   "execution_count": 76,
   "metadata": {},
   "outputs": [],
   "source": [
    "# MK Export Full list to CSV for easier cleaning rules development\n",
    "employer_counts.to_excel(\"cleaning_employer.xlsx\")"
   ]
  },
  {
   "cell_type": "code",
   "execution_count": 77,
   "metadata": {
    "inputHidden": false,
    "outputHidden": false
   },
   "outputs": [],
   "source": [
    "# Clean up Employer category. Replace 'Self Employed' and 'Self' with 'Self-Employed'\n",
    "df['Employer'] = df['Employer'].replace(\n",
    "    {'Self Employed': 'Self-Employed', 'Self': 'Self-Employed'})"
   ]
  },
  {
   "cell_type": "code",
   "execution_count": 78,
   "metadata": {
    "inputHidden": false,
    "outputHidden": false
   },
   "outputs": [
    {
     "data": {
      "text/plain": [
       "Self-Employed                         314\n",
       "None                                  282\n",
       "Retired                               126\n",
       "Google                                  6\n",
       "Unemployed                              4\n",
       "Not Employed                            4\n",
       "Bank Of America                         3\n",
       "University of California                3\n",
       "Social Security Administration          3\n",
       "Berger & Montague                       2\n",
       "Mayer Brown                             2\n",
       "Northern Trust                          2\n",
       "Rainey Cluss LLC                        2\n",
       "Ariel Investments                       2\n",
       "Microsoft                               2\n",
       "Harvard University                      2\n",
       "Federal Government                      2\n",
       "University Hospital                     2\n",
       "Davis Polk & Wardwell                   2\n",
       "Mayer Brown LLP                         2\n",
       "Henry Crown & Company                   2\n",
       "United Health Group                     2\n",
       "CSC                                     2\n",
       "State Department                        2\n",
       "University of Michigan                  2\n",
       "University of Washington                2\n",
       "Covington & Burling                     2\n",
       "Skadden, Arps                           2\n",
       "Newton Public Schools                   2\n",
       "University Of Michigan                  2\n",
       "                                     ... \n",
       "Jonathon Rose Co.                       1\n",
       "New Mexico Tech                         1\n",
       "Firstbank Puerto Rico                   1\n",
       "Noblis                                  1\n",
       "Capital Group Companies                 1\n",
       "Sotheby's International Realty          1\n",
       "Commonwealth Of Pennsylvania            1\n",
       "University Of Wisconsin                 1\n",
       "Help/Systems                            1\n",
       "Baruch College                          1\n",
       "Alagem Capital Group                    1\n",
       "Citadel Investment Group                1\n",
       "Youth Advocate Program                  1\n",
       "RAND Corporation                        1\n",
       "Sidley Austin                           1\n",
       "Seastack Enterprises                    1\n",
       "Dept Of Vet Affairs                     1\n",
       "AltusWorks                              1\n",
       "County Bank                             1\n",
       "Seagate Technology                      1\n",
       "Jewish Federation of Metro Chicago      1\n",
       "Self - Snider Enterprises               1\n",
       "Excel Care Inc                          1\n",
       "Retired U of IL                         1\n",
       "CBS Studios Inc.                        1\n",
       "Danish Refugee Council                  1\n",
       "Wendy's International, Inc              1\n",
       "VCUHS                                   1\n",
       "Netsoftusa                              1\n",
       "State Of Michigan                       1\n",
       "Name: Employer, Length: 1009, dtype: int64"
      ]
     },
     "execution_count": 78,
     "metadata": {},
     "output_type": "execute_result"
    }
   ],
   "source": [
    "# Verify clean-up.\n",
    "df['Employer'].value_counts()"
   ]
  },
  {
   "cell_type": "code",
   "execution_count": 79,
   "metadata": {
    "inputHidden": false,
    "outputHidden": false
   },
   "outputs": [
    {
     "data": {
      "text/plain": [
       "Self-Employed                         314\n",
       "None                                  282\n",
       "Retired                               126\n",
       "Unemployed                              8\n",
       "Google                                  6\n",
       "Bank Of America                         3\n",
       "Social Security Administration          3\n",
       "University of California                3\n",
       "State Department                        2\n",
       "Rainey Cluss LLC                        2\n",
       "Microsoft                               2\n",
       "University of Michigan                  2\n",
       "Mayer Brown LLP                         2\n",
       "CSC                                     2\n",
       "Henry Crown & Company                   2\n",
       "United Health Group                     2\n",
       "Federal Government                      2\n",
       "University of Washington                2\n",
       "Mayer Brown                             2\n",
       "Davis Polk & Wardwell                   2\n",
       "Ariel Investments                       2\n",
       "Harvard University                      2\n",
       "Covington & Burling                     2\n",
       "Kaiser Permanente                       2\n",
       "Quadrangle Group                        2\n",
       "LMI                                     2\n",
       "Jones Day                               2\n",
       "Northern Trust                          2\n",
       "Newton Public Schools                   2\n",
       "ExxonMobil                              2\n",
       "                                     ... \n",
       "Jonathon Rose Co.                       1\n",
       "New Mexico Tech                         1\n",
       "Firstbank Puerto Rico                   1\n",
       "Noblis                                  1\n",
       "Capital Group Companies                 1\n",
       "Sotheby's International Realty          1\n",
       "Commonwealth Of Pennsylvania            1\n",
       "University Of Wisconsin                 1\n",
       "Help/Systems                            1\n",
       "Baruch College                          1\n",
       "Alagem Capital Group                    1\n",
       "Citadel Investment Group                1\n",
       "Youth Advocate Program                  1\n",
       "RAND Corporation                        1\n",
       "Sidley Austin                           1\n",
       "Seastack Enterprises                    1\n",
       "Dept Of Vet Affairs                     1\n",
       "AltusWorks                              1\n",
       "County Bank                             1\n",
       "Seagate Technology                      1\n",
       "Jewish Federation of Metro Chicago      1\n",
       "Self - Snider Enterprises               1\n",
       "Excel Care Inc                          1\n",
       "Retired U of IL                         1\n",
       "CBS Studios Inc.                        1\n",
       "Danish Refugee Council                  1\n",
       "Wendy's International, Inc              1\n",
       "VCUHS                                   1\n",
       "Netsoftusa                              1\n",
       "State Of Michigan                       1\n",
       "Name: Employer, Length: 1008, dtype: int64"
      ]
     },
     "execution_count": 79,
     "metadata": {},
     "output_type": "execute_result"
    }
   ],
   "source": [
    "df['Employer'] = df['Employer'].replace({'Not Employed': 'Unemployed'})\n",
    "df['Employer'].value_counts()"
   ]
  },
  {
   "cell_type": "code",
   "execution_count": 80,
   "metadata": {
    "inputHidden": false,
    "outputHidden": false
   },
   "outputs": [
    {
     "data": {
      "text/html": [
       "<div>\n",
       "<style scoped>\n",
       "    .dataframe tbody tr th:only-of-type {\n",
       "        vertical-align: middle;\n",
       "    }\n",
       "\n",
       "    .dataframe tbody tr th {\n",
       "        vertical-align: top;\n",
       "    }\n",
       "\n",
       "    .dataframe thead th {\n",
       "        text-align: right;\n",
       "    }\n",
       "</style>\n",
       "<table border=\"1\" class=\"dataframe\">\n",
       "  <thead>\n",
       "    <tr style=\"text-align: right;\">\n",
       "      <th></th>\n",
       "      <th>Amount</th>\n",
       "    </tr>\n",
       "  </thead>\n",
       "  <tbody>\n",
       "    <tr>\n",
       "      <th>count</th>\n",
       "      <td>1776.000000</td>\n",
       "    </tr>\n",
       "    <tr>\n",
       "      <th>mean</th>\n",
       "      <td>659.311622</td>\n",
       "    </tr>\n",
       "    <tr>\n",
       "      <th>std</th>\n",
       "      <td>1274.416858</td>\n",
       "    </tr>\n",
       "    <tr>\n",
       "      <th>min</th>\n",
       "      <td>5.000000</td>\n",
       "    </tr>\n",
       "    <tr>\n",
       "      <th>25%</th>\n",
       "      <td>200.000000</td>\n",
       "    </tr>\n",
       "    <tr>\n",
       "      <th>50%</th>\n",
       "      <td>250.000000</td>\n",
       "    </tr>\n",
       "    <tr>\n",
       "      <th>75%</th>\n",
       "      <td>500.000000</td>\n",
       "    </tr>\n",
       "    <tr>\n",
       "      <th>max</th>\n",
       "      <td>5000.000000</td>\n",
       "    </tr>\n",
       "  </tbody>\n",
       "</table>\n",
       "</div>"
      ],
      "text/plain": [
       "            Amount\n",
       "count  1776.000000\n",
       "mean    659.311622\n",
       "std    1274.416858\n",
       "min       5.000000\n",
       "25%     200.000000\n",
       "50%     250.000000\n",
       "75%     500.000000\n",
       "max    5000.000000"
      ]
     },
     "execution_count": 80,
     "metadata": {},
     "output_type": "execute_result"
    }
   ],
   "source": [
    "# Display a statistical overview\n",
    "# We can infer the maximum allowable individual contribution from 'max'\n",
    "df.describe()"
   ]
  }
 ],
 "metadata": {
  "anaconda-cloud": {},
  "kernel_info": {
   "name": "python3"
  },
  "kernelspec": {
   "display_name": "Python 3",
   "language": "python",
   "name": "python3"
  },
  "language_info": {
   "codemirror_mode": {
    "name": "ipython",
    "version": 3
   },
   "file_extension": ".py",
   "mimetype": "text/x-python",
   "name": "python",
   "nbconvert_exporter": "python",
   "pygments_lexer": "ipython3",
   "version": "3.6.7"
  },
  "nteract": {
   "version": "0.2.0"
  }
 },
 "nbformat": 4,
 "nbformat_minor": 2
}
